{
  "nbformat": 4,
  "nbformat_minor": 0,
  "metadata": {
    "colab": {
      "provenance": [],
      "authorship_tag": "ABX9TyPEbhGbACjMdL0zdVnnyc5b",
      "include_colab_link": true
    },
    "kernelspec": {
      "name": "python3",
      "display_name": "Python 3"
    },
    "language_info": {
      "name": "python"
    }
  },
  "cells": [
    {
      "cell_type": "markdown",
      "metadata": {
        "id": "view-in-github",
        "colab_type": "text"
      },
      "source": [
        "<a href=\"https://colab.research.google.com/github/semin1012/InhaGameStudy/blob/main/Untitled2.ipynb\" target=\"_parent\"><img src=\"https://colab.research.google.com/assets/colab-badge.svg\" alt=\"Open In Colab\"/></a>"
      ]
    },
    {
      "cell_type": "code",
      "execution_count": null,
      "metadata": {
        "id": "vOU4W97Khxle"
      },
      "outputs": [],
      "source": [
        "import torch\n",
        "from torch.utils.data import Dataset"
      ]
    },
    {
      "cell_type": "code",
      "source": [
        "class CustomDataset(Dataset):\n",
        "    def __init__(self):\n",
        "        # 이중 리스트 5x3\n",
        "        self.x_data = [[73, 80, 75],\n",
        "                       [93, 88, 93],\n",
        "                       [89, 91, 90],\n",
        "                       [96, 98, 100],\n",
        "                       [73, 66, 70]]\n",
        "        # 이중 리스트 5x1\n",
        "        self.y_data = [[152], [185], [180], [196], [142]]\n",
        "    def __len__(self):\n",
        "        return len(self.x_data)     # x 데이터의 길이(=5) 리턴\n",
        "    def __getitem__(self, index):\n",
        "        x = torch.FloatTensor(self.x_data[index])\n",
        "        y = torch.FloatTensor(self.y_data[index])\n",
        "        return x, y\n",
        "\n",
        "dataset = CustomDataset()"
      ],
      "metadata": {
        "id": "4_vLUfveiBJi"
      },
      "execution_count": null,
      "outputs": []
    },
    {
      "cell_type": "code",
      "source": [
        "print(dataset)"
      ],
      "metadata": {
        "colab": {
          "base_uri": "https://localhost:8080/"
        },
        "id": "J9vcvYlxj06h",
        "outputId": "eba1117a-a64c-42cc-dc9e-af14920323d7"
      },
      "execution_count": null,
      "outputs": [
        {
          "output_type": "stream",
          "name": "stdout",
          "text": [
            "<__main__.CustomDataset object at 0x7ccc805ebca0>\n"
          ]
        }
      ]
    },
    {
      "cell_type": "code",
      "source": [
        "print(len(dataset))"
      ],
      "metadata": {
        "colab": {
          "base_uri": "https://localhost:8080/"
        },
        "id": "9p8nfj2EkLlY",
        "outputId": "5147e4f9-5f3c-4c85-ab18-a497efc32eff"
      },
      "execution_count": null,
      "outputs": [
        {
          "output_type": "stream",
          "name": "stdout",
          "text": [
            "5\n"
          ]
        }
      ]
    },
    {
      "cell_type": "code",
      "source": [
        "print(dataset[0])"
      ],
      "metadata": {
        "colab": {
          "base_uri": "https://localhost:8080/"
        },
        "id": "FPrdy9NskP1B",
        "outputId": "587ed8d4-384c-4fc0-8588-9889fb8481a2"
      },
      "execution_count": null,
      "outputs": [
        {
          "output_type": "stream",
          "name": "stdout",
          "text": [
            "(tensor([73., 80., 75.]), tensor([152.]))\n"
          ]
        }
      ]
    },
    {
      "cell_type": "code",
      "source": [
        "from torch.utils.data import DataLoader\n",
        "\n",
        "dataloader = DataLoader(dataset, batch_size=2, shuffle=True)    # shuffle = 무작위로 뽑으라는 뜻"
      ],
      "metadata": {
        "id": "85fxL62jkUeJ"
      },
      "execution_count": null,
      "outputs": []
    },
    {
      "cell_type": "code",
      "source": [
        "linear1 = torch.nn.Linear(3, 100, bias=True)     # 첫 번째 인자 3으로 변경. 데이터가 5x3이니까 3\n",
        "linear2 = torch.nn.Linear(100, 100, bias=True)\n",
        "linear3 = torch.nn.Linear(100, 100, bias=True)\n",
        "linear4 = torch.nn.Linear(100, 1, bias=True)\n",
        "sigmoid = torch.nn.Sigmoid()"
      ],
      "metadata": {
        "id": "_uhSlUAKmRgC"
      },
      "execution_count": null,
      "outputs": []
    },
    {
      "cell_type": "code",
      "source": [
        "# sigmoid 넣는 이유: 사이마다 단편화를 막기 위함\n",
        "model = torch.nn.Sequential(linear1, sigmoid,\n",
        "                            linear2, sigmoid,\n",
        "                            linear3, sigmoid,\n",
        "                            linear4)"
      ],
      "metadata": {
        "id": "smMInLPUmVAa"
      },
      "execution_count": null,
      "outputs": []
    },
    {
      "cell_type": "code",
      "source": [
        "# criterion = torch.nn.BCELoss    # BinaryCrossEntropy Loss -> 0, 1\n",
        "#MSELoss\n",
        "criterion = torch.nn.MSELoss()\n",
        "optimizer = torch.optim.SGD(model.parameters(), lr=0.01)"
      ],
      "metadata": {
        "id": "TxicXX6Im9qC"
      },
      "execution_count": null,
      "outputs": []
    },
    {
      "cell_type": "code",
      "source": [
        "nb_epochs = 100\n",
        "for epoch in range(nb_epochs+1):    # 0~20\n",
        "    for batch_idx, sample in enumerate(dataloader): # enumerator: 몇 번째인지 함께 나타낼 수 있다\n",
        "        x_train, y_train = sample   # tensorX, tensorY 동시에 나오게 된다. (getitem 메소드)\n",
        "        prediction = model(x_train)\n",
        "\n",
        "        cost = criterion(prediction, y_train)\n",
        "\n",
        "        optimizer.zero_grad()\n",
        "        cost.backward()\n",
        "        optimizer.step()\n",
        "\n",
        "        print('Epoch', epoch, '/', nb_epochs, 'Batch', batch_idx, '/', len(dataloader), 'Cost:', cost.item())"
      ],
      "metadata": {
        "colab": {
          "base_uri": "https://localhost:8080/"
        },
        "id": "6LgLrx84lBuL",
        "outputId": "329c552c-4541-4d31-a5fc-b8034ac35467"
      },
      "execution_count": null,
      "outputs": [
        {
          "output_type": "stream",
          "name": "stdout",
          "text": [
            "Epoch 0 / 100 Batch 0 / 3 Cost: 35461.09765625\n",
            "Epoch 0 / 100 Batch 1 / 3 Cost: 4666.27392578125\n",
            "Epoch 0 / 100 Batch 2 / 3 Cost: 9255.7431640625\n",
            "Epoch 1 / 100 Batch 0 / 3 Cost: 10331.75\n",
            "Epoch 1 / 100 Batch 1 / 3 Cost: 2449.53759765625\n",
            "Epoch 1 / 100 Batch 2 / 3 Cost: 130.87818908691406\n",
            "Epoch 2 / 100 Batch 0 / 3 Cost: 3266.85546875\n",
            "Epoch 2 / 100 Batch 1 / 3 Cost: 4468.19970703125\n",
            "Epoch 2 / 100 Batch 2 / 3 Cost: 547.1934204101562\n",
            "Epoch 3 / 100 Batch 0 / 3 Cost: 717.9320678710938\n",
            "Epoch 3 / 100 Batch 1 / 3 Cost: 12.267523765563965\n",
            "Epoch 3 / 100 Batch 2 / 3 Cost: 1500.868408203125\n",
            "Epoch 4 / 100 Batch 0 / 3 Cost: 1096.452392578125\n",
            "Epoch 4 / 100 Batch 1 / 3 Cost: 436.3931884765625\n",
            "Epoch 4 / 100 Batch 2 / 3 Cost: 621.8964233398438\n",
            "Epoch 5 / 100 Batch 0 / 3 Cost: 734.03369140625\n",
            "Epoch 5 / 100 Batch 1 / 3 Cost: 2313.901123046875\n",
            "Epoch 5 / 100 Batch 2 / 3 Cost: 373.7203674316406\n",
            "Epoch 6 / 100 Batch 0 / 3 Cost: 377.54095458984375\n",
            "Epoch 6 / 100 Batch 1 / 3 Cost: 3023.845703125\n",
            "Epoch 6 / 100 Batch 2 / 3 Cost: 1746.205810546875\n",
            "Epoch 7 / 100 Batch 0 / 3 Cost: 761.7280883789062\n",
            "Epoch 7 / 100 Batch 1 / 3 Cost: 1820.944580078125\n",
            "Epoch 7 / 100 Batch 2 / 3 Cost: 43.554439544677734\n",
            "Epoch 8 / 100 Batch 0 / 3 Cost: 1176.449951171875\n",
            "Epoch 8 / 100 Batch 1 / 3 Cost: 3222.101806640625\n",
            "Epoch 8 / 100 Batch 2 / 3 Cost: 834.7263793945312\n",
            "Epoch 9 / 100 Batch 0 / 3 Cost: 535.714599609375\n",
            "Epoch 9 / 100 Batch 1 / 3 Cost: 267.7296142578125\n",
            "Epoch 9 / 100 Batch 2 / 3 Cost: 581.094970703125\n",
            "Epoch 10 / 100 Batch 0 / 3 Cost: 3044.783447265625\n",
            "Epoch 10 / 100 Batch 1 / 3 Cost: 2896.56005859375\n",
            "Epoch 10 / 100 Batch 2 / 3 Cost: 532.7850952148438\n",
            "Epoch 11 / 100 Batch 0 / 3 Cost: 423.3475036621094\n",
            "Epoch 11 / 100 Batch 1 / 3 Cost: 825.9483032226562\n",
            "Epoch 11 / 100 Batch 2 / 3 Cost: 3.444406509399414\n",
            "Epoch 12 / 100 Batch 0 / 3 Cost: 76.40374755859375\n",
            "Epoch 12 / 100 Batch 1 / 3 Cost: 2351.6826171875\n",
            "Epoch 12 / 100 Batch 2 / 3 Cost: 4429.345703125\n",
            "Epoch 13 / 100 Batch 0 / 3 Cost: 4366.93994140625\n",
            "Epoch 13 / 100 Batch 1 / 3 Cost: 3403.986328125\n",
            "Epoch 13 / 100 Batch 2 / 3 Cost: 962.6165161132812\n",
            "Epoch 14 / 100 Batch 0 / 3 Cost: 374.9467468261719\n",
            "Epoch 14 / 100 Batch 1 / 3 Cost: 771.31787109375\n",
            "Epoch 14 / 100 Batch 2 / 3 Cost: 240.6787567138672\n",
            "Epoch 15 / 100 Batch 0 / 3 Cost: 764.677490234375\n",
            "Epoch 15 / 100 Batch 1 / 3 Cost: 412.17327880859375\n",
            "Epoch 15 / 100 Batch 2 / 3 Cost: 2964.97509765625\n",
            "Epoch 16 / 100 Batch 0 / 3 Cost: 5321.42919921875\n",
            "Epoch 16 / 100 Batch 1 / 3 Cost: 3670.777587890625\n",
            "Epoch 16 / 100 Batch 2 / 3 Cost: 2956.61083984375\n",
            "Epoch 17 / 100 Batch 0 / 3 Cost: 2200.56884765625\n",
            "Epoch 17 / 100 Batch 1 / 3 Cost: 741.6298217773438\n",
            "Epoch 17 / 100 Batch 2 / 3 Cost: 31.081951141357422\n",
            "Epoch 18 / 100 Batch 0 / 3 Cost: 507.73284912109375\n",
            "Epoch 18 / 100 Batch 1 / 3 Cost: 544.63134765625\n",
            "Epoch 18 / 100 Batch 2 / 3 Cost: 705.60205078125\n",
            "Epoch 19 / 100 Batch 0 / 3 Cost: 962.4127807617188\n",
            "Epoch 19 / 100 Batch 1 / 3 Cost: 255.61444091796875\n",
            "Epoch 19 / 100 Batch 2 / 3 Cost: 3472.54443359375\n",
            "Epoch 20 / 100 Batch 0 / 3 Cost: 5765.84033203125\n",
            "Epoch 20 / 100 Batch 1 / 3 Cost: 4234.599609375\n",
            "Epoch 20 / 100 Batch 2 / 3 Cost: 828.2567138671875\n",
            "Epoch 21 / 100 Batch 0 / 3 Cost: 386.59600830078125\n",
            "Epoch 21 / 100 Batch 1 / 3 Cost: 389.2184143066406\n",
            "Epoch 21 / 100 Batch 2 / 3 Cost: 416.96759033203125\n",
            "Epoch 22 / 100 Batch 0 / 3 Cost: 387.58551025390625\n",
            "Epoch 22 / 100 Batch 1 / 3 Cost: 990.9976806640625\n",
            "Epoch 22 / 100 Batch 2 / 3 Cost: 2839.856689453125\n",
            "Epoch 23 / 100 Batch 0 / 3 Cost: 1032.14990234375\n",
            "Epoch 23 / 100 Batch 1 / 3 Cost: 641.2699584960938\n",
            "Epoch 23 / 100 Batch 2 / 3 Cost: 1614.16455078125\n",
            "Epoch 24 / 100 Batch 0 / 3 Cost: 991.052734375\n",
            "Epoch 24 / 100 Batch 1 / 3 Cost: 256.0147705078125\n",
            "Epoch 24 / 100 Batch 2 / 3 Cost: 11.053271293640137\n",
            "Epoch 25 / 100 Batch 0 / 3 Cost: 251.6250762939453\n",
            "Epoch 25 / 100 Batch 1 / 3 Cost: 740.06787109375\n",
            "Epoch 25 / 100 Batch 2 / 3 Cost: 221.0623016357422\n",
            "Epoch 26 / 100 Batch 0 / 3 Cost: 702.67431640625\n",
            "Epoch 26 / 100 Batch 1 / 3 Cost: 345.872314453125\n",
            "Epoch 26 / 100 Batch 2 / 3 Cost: 2487.6572265625\n",
            "Epoch 27 / 100 Batch 0 / 3 Cost: 4666.91015625\n",
            "Epoch 27 / 100 Batch 1 / 3 Cost: 4991.75048828125\n",
            "Epoch 27 / 100 Batch 2 / 3 Cost: 980.3651733398438\n",
            "Epoch 28 / 100 Batch 0 / 3 Cost: 332.340576171875\n",
            "Epoch 28 / 100 Batch 1 / 3 Cost: 1166.5634765625\n",
            "Epoch 28 / 100 Batch 2 / 3 Cost: 56.189361572265625\n",
            "Epoch 29 / 100 Batch 0 / 3 Cost: 2636.57958984375\n",
            "Epoch 29 / 100 Batch 1 / 3 Cost: 3653.2705078125\n",
            "Epoch 29 / 100 Batch 2 / 3 Cost: 594.3377685546875\n",
            "Epoch 30 / 100 Batch 0 / 3 Cost: 569.744873046875\n",
            "Epoch 30 / 100 Batch 1 / 3 Cost: 3414.364990234375\n",
            "Epoch 30 / 100 Batch 2 / 3 Cost: 4876.20361328125\n",
            "Epoch 31 / 100 Batch 0 / 3 Cost: 3667.986083984375\n",
            "Epoch 31 / 100 Batch 1 / 3 Cost: 1402.227294921875\n",
            "Epoch 31 / 100 Batch 2 / 3 Cost: 75.42546844482422\n",
            "Epoch 32 / 100 Batch 0 / 3 Cost: 791.2149658203125\n",
            "Epoch 32 / 100 Batch 1 / 3 Cost: 2725.7109375\n",
            "Epoch 32 / 100 Batch 2 / 3 Cost: 305.0458068847656\n",
            "Epoch 33 / 100 Batch 0 / 3 Cost: 1509.93408203125\n",
            "Epoch 33 / 100 Batch 1 / 3 Cost: 4444.9609375\n",
            "Epoch 33 / 100 Batch 2 / 3 Cost: 2486.926513671875\n",
            "Epoch 34 / 100 Batch 0 / 3 Cost: 35.33208465576172\n",
            "Epoch 34 / 100 Batch 1 / 3 Cost: 2091.917236328125\n",
            "Epoch 34 / 100 Batch 2 / 3 Cost: 1403.7689208984375\n",
            "Epoch 35 / 100 Batch 0 / 3 Cost: 496.548828125\n",
            "Epoch 35 / 100 Batch 1 / 3 Cost: 533.3048706054688\n",
            "Epoch 35 / 100 Batch 2 / 3 Cost: 3.3258814811706543\n",
            "Epoch 36 / 100 Batch 0 / 3 Cost: 764.4448852539062\n",
            "Epoch 36 / 100 Batch 1 / 3 Cost: 650.5635986328125\n",
            "Epoch 36 / 100 Batch 2 / 3 Cost: 254.60006713867188\n",
            "Epoch 37 / 100 Batch 0 / 3 Cost: 2061.843017578125\n",
            "Epoch 37 / 100 Batch 1 / 3 Cost: 724.1607055664062\n",
            "Epoch 37 / 100 Batch 2 / 3 Cost: 1.2389534711837769\n",
            "Epoch 38 / 100 Batch 0 / 3 Cost: 16.253557205200195\n",
            "Epoch 38 / 100 Batch 1 / 3 Cost: 1422.51904296875\n",
            "Epoch 38 / 100 Batch 2 / 3 Cost: 5072.20166015625\n",
            "Epoch 39 / 100 Batch 0 / 3 Cost: 2580.693359375\n",
            "Epoch 39 / 100 Batch 1 / 3 Cost: 492.0391845703125\n",
            "Epoch 39 / 100 Batch 2 / 3 Cost: 217.2313232421875\n",
            "Epoch 40 / 100 Batch 0 / 3 Cost: 39.033084869384766\n",
            "Epoch 40 / 100 Batch 1 / 3 Cost: 1114.1217041015625\n",
            "Epoch 40 / 100 Batch 2 / 3 Cost: 39.051055908203125\n",
            "Epoch 41 / 100 Batch 0 / 3 Cost: 33.39231872558594\n",
            "Epoch 41 / 100 Batch 1 / 3 Cost: 1170.03271484375\n",
            "Epoch 41 / 100 Batch 2 / 3 Cost: 62.716461181640625\n",
            "Epoch 42 / 100 Batch 0 / 3 Cost: 672.6454467773438\n",
            "Epoch 42 / 100 Batch 1 / 3 Cost: 2608.642333984375\n",
            "Epoch 42 / 100 Batch 2 / 3 Cost: 6273.89013671875\n",
            "Epoch 43 / 100 Batch 0 / 3 Cost: 7041.46923828125\n",
            "Epoch 43 / 100 Batch 1 / 3 Cost: 6143.44775390625\n",
            "Epoch 43 / 100 Batch 2 / 3 Cost: 7102.0146484375\n",
            "Epoch 44 / 100 Batch 0 / 3 Cost: 7449.4677734375\n",
            "Epoch 44 / 100 Batch 1 / 3 Cost: 4908.8369140625\n",
            "Epoch 44 / 100 Batch 2 / 3 Cost: 168.70932006835938\n",
            "Epoch 45 / 100 Batch 0 / 3 Cost: 1568.617431640625\n",
            "Epoch 45 / 100 Batch 1 / 3 Cost: 1998.036865234375\n",
            "Epoch 45 / 100 Batch 2 / 3 Cost: 7.060447692871094\n",
            "Epoch 46 / 100 Batch 0 / 3 Cost: 1606.251708984375\n",
            "Epoch 46 / 100 Batch 1 / 3 Cost: 115.74858093261719\n",
            "Epoch 46 / 100 Batch 2 / 3 Cost: 1190.233154296875\n",
            "Epoch 47 / 100 Batch 0 / 3 Cost: 2386.65185546875\n",
            "Epoch 47 / 100 Batch 1 / 3 Cost: 1440.859130859375\n",
            "Epoch 47 / 100 Batch 2 / 3 Cost: 2844.408203125\n",
            "Epoch 48 / 100 Batch 0 / 3 Cost: 6174.04296875\n",
            "Epoch 48 / 100 Batch 1 / 3 Cost: 7596.640625\n",
            "Epoch 48 / 100 Batch 2 / 3 Cost: 3341.480712890625\n",
            "Epoch 49 / 100 Batch 0 / 3 Cost: 721.1962890625\n",
            "Epoch 49 / 100 Batch 1 / 3 Cost: 732.1919555664062\n",
            "Epoch 49 / 100 Batch 2 / 3 Cost: 2086.30908203125\n",
            "Epoch 50 / 100 Batch 0 / 3 Cost: 3432.7119140625\n",
            "Epoch 50 / 100 Batch 1 / 3 Cost: 1797.77685546875\n",
            "Epoch 50 / 100 Batch 2 / 3 Cost: 2881.764404296875\n",
            "Epoch 51 / 100 Batch 0 / 3 Cost: 3141.732421875\n",
            "Epoch 51 / 100 Batch 1 / 3 Cost: 368.315673828125\n",
            "Epoch 51 / 100 Batch 2 / 3 Cost: 896.9739990234375\n",
            "Epoch 52 / 100 Batch 0 / 3 Cost: 4165.28857421875\n",
            "Epoch 52 / 100 Batch 1 / 3 Cost: 3468.7890625\n",
            "Epoch 52 / 100 Batch 2 / 3 Cost: 34.124271392822266\n",
            "Epoch 53 / 100 Batch 0 / 3 Cost: 29.374204635620117\n",
            "Epoch 53 / 100 Batch 1 / 3 Cost: 1832.506103515625\n",
            "Epoch 53 / 100 Batch 2 / 3 Cost: 1022.59130859375\n",
            "Epoch 54 / 100 Batch 0 / 3 Cost: 593.3319091796875\n",
            "Epoch 54 / 100 Batch 1 / 3 Cost: 16.674015045166016\n",
            "Epoch 54 / 100 Batch 2 / 3 Cost: 1776.1988525390625\n",
            "Epoch 55 / 100 Batch 0 / 3 Cost: 2538.94140625\n",
            "Epoch 55 / 100 Batch 1 / 3 Cost: 1235.097412109375\n",
            "Epoch 55 / 100 Batch 2 / 3 Cost: 488.8514404296875\n",
            "Epoch 56 / 100 Batch 0 / 3 Cost: 1197.3533935546875\n",
            "Epoch 56 / 100 Batch 1 / 3 Cost: 372.3038330078125\n",
            "Epoch 56 / 100 Batch 2 / 3 Cost: 45.3824348449707\n",
            "Epoch 57 / 100 Batch 0 / 3 Cost: 6.772088050842285\n",
            "Epoch 57 / 100 Batch 1 / 3 Cost: 1260.7628173828125\n",
            "Epoch 57 / 100 Batch 2 / 3 Cost: 4324.29443359375\n",
            "Epoch 58 / 100 Batch 0 / 3 Cost: 1369.160400390625\n",
            "Epoch 58 / 100 Batch 1 / 3 Cost: 504.9359436035156\n",
            "Epoch 58 / 100 Batch 2 / 3 Cost: 10.889718055725098\n",
            "Epoch 59 / 100 Batch 0 / 3 Cost: 1474.904296875\n",
            "Epoch 59 / 100 Batch 1 / 3 Cost: 1664.65576171875\n",
            "Epoch 59 / 100 Batch 2 / 3 Cost: 75.927490234375\n",
            "Epoch 60 / 100 Batch 0 / 3 Cost: 1118.429443359375\n",
            "Epoch 60 / 100 Batch 1 / 3 Cost: 288.0464782714844\n",
            "Epoch 60 / 100 Batch 2 / 3 Cost: 1194.358642578125\n",
            "Epoch 61 / 100 Batch 0 / 3 Cost: 901.602783203125\n",
            "Epoch 61 / 100 Batch 1 / 3 Cost: 729.6031494140625\n",
            "Epoch 61 / 100 Batch 2 / 3 Cost: 301.6632080078125\n",
            "Epoch 62 / 100 Batch 0 / 3 Cost: 851.7352294921875\n",
            "Epoch 62 / 100 Batch 1 / 3 Cost: 485.3594665527344\n",
            "Epoch 62 / 100 Batch 2 / 3 Cost: 29.624679565429688\n",
            "Epoch 63 / 100 Batch 0 / 3 Cost: 93.28680419921875\n",
            "Epoch 63 / 100 Batch 1 / 3 Cost: 1195.4088134765625\n",
            "Epoch 63 / 100 Batch 2 / 3 Cost: 1.9079527854919434\n",
            "Epoch 64 / 100 Batch 0 / 3 Cost: 523.356689453125\n",
            "Epoch 64 / 100 Batch 1 / 3 Cost: 586.1513061523438\n",
            "Epoch 64 / 100 Batch 2 / 3 Cost: 1774.564453125\n",
            "Epoch 65 / 100 Batch 0 / 3 Cost: 1127.5765380859375\n",
            "Epoch 65 / 100 Batch 1 / 3 Cost: 735.1240844726562\n",
            "Epoch 65 / 100 Batch 2 / 3 Cost: 330.29522705078125\n",
            "Epoch 66 / 100 Batch 0 / 3 Cost: 707.4344482421875\n",
            "Epoch 66 / 100 Batch 1 / 3 Cost: 788.0853271484375\n",
            "Epoch 66 / 100 Batch 2 / 3 Cost: 386.19482421875\n",
            "Epoch 67 / 100 Batch 0 / 3 Cost: 104.10177612304688\n",
            "Epoch 67 / 100 Batch 1 / 3 Cost: 543.9136352539062\n",
            "Epoch 67 / 100 Batch 2 / 3 Cost: 348.3187561035156\n",
            "Epoch 68 / 100 Batch 0 / 3 Cost: 1381.6806640625\n",
            "Epoch 68 / 100 Batch 1 / 3 Cost: 498.3007507324219\n",
            "Epoch 68 / 100 Batch 2 / 3 Cost: 60.80934524536133\n",
            "Epoch 69 / 100 Batch 0 / 3 Cost: 945.24853515625\n",
            "Epoch 69 / 100 Batch 1 / 3 Cost: 426.11981201171875\n",
            "Epoch 69 / 100 Batch 2 / 3 Cost: 1617.73193359375\n",
            "Epoch 70 / 100 Batch 0 / 3 Cost: 1398.5875244140625\n",
            "Epoch 70 / 100 Batch 1 / 3 Cost: 499.13787841796875\n",
            "Epoch 70 / 100 Batch 2 / 3 Cost: 61.608463287353516\n",
            "Epoch 71 / 100 Batch 0 / 3 Cost: 578.6182250976562\n",
            "Epoch 71 / 100 Batch 1 / 3 Cost: 431.1435852050781\n",
            "Epoch 71 / 100 Batch 2 / 3 Cost: 782.2484130859375\n",
            "Epoch 72 / 100 Batch 0 / 3 Cost: 1072.093994140625\n",
            "Epoch 72 / 100 Batch 1 / 3 Cost: 408.0479431152344\n",
            "Epoch 72 / 100 Batch 2 / 3 Cost: 2500.5263671875\n",
            "Epoch 73 / 100 Batch 0 / 3 Cost: 2791.71044921875\n",
            "Epoch 73 / 100 Batch 1 / 3 Cost: 1254.780029296875\n",
            "Epoch 73 / 100 Batch 2 / 3 Cost: 481.04638671875\n",
            "Epoch 74 / 100 Batch 0 / 3 Cost: 790.1965942382812\n",
            "Epoch 74 / 100 Batch 1 / 3 Cost: 1331.75341796875\n",
            "Epoch 74 / 100 Batch 2 / 3 Cost: 4292.68310546875\n",
            "Epoch 75 / 100 Batch 0 / 3 Cost: 3213.82958984375\n",
            "Epoch 75 / 100 Batch 1 / 3 Cost: 652.4736328125\n",
            "Epoch 75 / 100 Batch 2 / 3 Cost: 1590.6143798828125\n",
            "Epoch 76 / 100 Batch 0 / 3 Cost: 2518.24560546875\n",
            "Epoch 76 / 100 Batch 1 / 3 Cost: 2200.18505859375\n",
            "Epoch 76 / 100 Batch 2 / 3 Cost: 4847.76171875\n",
            "Epoch 77 / 100 Batch 0 / 3 Cost: 3291.12744140625\n",
            "Epoch 77 / 100 Batch 1 / 3 Cost: 659.821533203125\n",
            "Epoch 77 / 100 Batch 2 / 3 Cost: 145.6530303955078\n",
            "Epoch 78 / 100 Batch 0 / 3 Cost: 1507.936279296875\n",
            "Epoch 78 / 100 Batch 1 / 3 Cost: 2811.785400390625\n",
            "Epoch 78 / 100 Batch 2 / 3 Cost: 100.3292465209961\n",
            "Epoch 79 / 100 Batch 0 / 3 Cost: 787.2989501953125\n",
            "Epoch 79 / 100 Batch 1 / 3 Cost: 468.90838623046875\n",
            "Epoch 79 / 100 Batch 2 / 3 Cost: 311.7162170410156\n",
            "Epoch 80 / 100 Batch 0 / 3 Cost: 1058.6220703125\n",
            "Epoch 80 / 100 Batch 1 / 3 Cost: 378.5518493652344\n",
            "Epoch 80 / 100 Batch 2 / 3 Cost: 578.1450805664062\n",
            "Epoch 81 / 100 Batch 0 / 3 Cost: 2456.9326171875\n",
            "Epoch 81 / 100 Batch 1 / 3 Cost: 2529.368896484375\n",
            "Epoch 81 / 100 Batch 2 / 3 Cost: 3626.782958984375\n",
            "Epoch 82 / 100 Batch 0 / 3 Cost: 4226.90185546875\n",
            "Epoch 82 / 100 Batch 1 / 3 Cost: 3663.61962890625\n",
            "Epoch 82 / 100 Batch 2 / 3 Cost: 259.3689270019531\n",
            "Epoch 83 / 100 Batch 0 / 3 Cost: 909.9864501953125\n",
            "Epoch 83 / 100 Batch 1 / 3 Cost: 1305.0865478515625\n",
            "Epoch 83 / 100 Batch 2 / 3 Cost: 155.71868896484375\n",
            "Epoch 84 / 100 Batch 0 / 3 Cost: 1881.6787109375\n",
            "Epoch 84 / 100 Batch 1 / 3 Cost: 1208.5548095703125\n",
            "Epoch 84 / 100 Batch 2 / 3 Cost: 1345.0401611328125\n",
            "Epoch 85 / 100 Batch 0 / 3 Cost: 1319.1435546875\n",
            "Epoch 85 / 100 Batch 1 / 3 Cost: 404.648681640625\n",
            "Epoch 85 / 100 Batch 2 / 3 Cost: 1033.4818115234375\n",
            "Epoch 86 / 100 Batch 0 / 3 Cost: 546.4382934570312\n",
            "Epoch 86 / 100 Batch 1 / 3 Cost: 1011.1554565429688\n",
            "Epoch 86 / 100 Batch 2 / 3 Cost: 2662.51025390625\n",
            "Epoch 87 / 100 Batch 0 / 3 Cost: 430.4906311035156\n",
            "Epoch 87 / 100 Batch 1 / 3 Cost: 1088.2191162109375\n",
            "Epoch 87 / 100 Batch 2 / 3 Cost: 2704.739501953125\n",
            "Epoch 88 / 100 Batch 0 / 3 Cost: 588.8991088867188\n",
            "Epoch 88 / 100 Batch 1 / 3 Cost: 739.701904296875\n",
            "Epoch 88 / 100 Batch 2 / 3 Cost: 244.55421447753906\n",
            "Epoch 89 / 100 Batch 0 / 3 Cost: 1296.08203125\n",
            "Epoch 89 / 100 Batch 1 / 3 Cost: 976.5494995117188\n",
            "Epoch 89 / 100 Batch 2 / 3 Cost: 1179.189208984375\n",
            "Epoch 90 / 100 Batch 0 / 3 Cost: 106.81512451171875\n",
            "Epoch 90 / 100 Batch 1 / 3 Cost: 1028.8812255859375\n",
            "Epoch 90 / 100 Batch 2 / 3 Cost: 3.1048896312713623\n",
            "Epoch 91 / 100 Batch 0 / 3 Cost: 936.4412841796875\n",
            "Epoch 91 / 100 Batch 1 / 3 Cost: 6.352856636047363\n",
            "Epoch 91 / 100 Batch 2 / 3 Cost: 1629.4359130859375\n",
            "Epoch 92 / 100 Batch 0 / 3 Cost: 2143.556884765625\n",
            "Epoch 92 / 100 Batch 1 / 3 Cost: 66.91975402832031\n",
            "Epoch 92 / 100 Batch 2 / 3 Cost: 2182.07568359375\n",
            "Epoch 93 / 100 Batch 0 / 3 Cost: 2377.865234375\n",
            "Epoch 93 / 100 Batch 1 / 3 Cost: 64.54219818115234\n",
            "Epoch 93 / 100 Batch 2 / 3 Cost: 2144.371337890625\n",
            "Epoch 94 / 100 Batch 0 / 3 Cost: 609.8624267578125\n",
            "Epoch 94 / 100 Batch 1 / 3 Cost: 1170.126708984375\n",
            "Epoch 94 / 100 Batch 2 / 3 Cost: 598.03515625\n",
            "Epoch 95 / 100 Batch 0 / 3 Cost: 501.5526123046875\n",
            "Epoch 95 / 100 Batch 1 / 3 Cost: 52.01170349121094\n",
            "Epoch 95 / 100 Batch 2 / 3 Cost: 1875.5589599609375\n",
            "Epoch 96 / 100 Batch 0 / 3 Cost: 4437.4482421875\n",
            "Epoch 96 / 100 Batch 1 / 3 Cost: 2836.484375\n",
            "Epoch 96 / 100 Batch 2 / 3 Cost: 7.9448699951171875\n",
            "Epoch 97 / 100 Batch 0 / 3 Cost: 1737.391357421875\n",
            "Epoch 97 / 100 Batch 1 / 3 Cost: 1622.33544921875\n",
            "Epoch 97 / 100 Batch 2 / 3 Cost: 26.366601943969727\n",
            "Epoch 98 / 100 Batch 0 / 3 Cost: 615.4093627929688\n",
            "Epoch 98 / 100 Batch 1 / 3 Cost: 775.3109741210938\n",
            "Epoch 98 / 100 Batch 2 / 3 Cost: 187.56158447265625\n",
            "Epoch 99 / 100 Batch 0 / 3 Cost: 70.65018463134766\n",
            "Epoch 99 / 100 Batch 1 / 3 Cost: 693.4627685546875\n",
            "Epoch 99 / 100 Batch 2 / 3 Cost: 337.115966796875\n",
            "Epoch 100 / 100 Batch 0 / 3 Cost: 1410.2589111328125\n",
            "Epoch 100 / 100 Batch 1 / 3 Cost: 103.06549835205078\n",
            "Epoch 100 / 100 Batch 2 / 3 Cost: 2350.31591796875\n"
          ]
        }
      ]
    },
    {
      "cell_type": "code",
      "source": [],
      "metadata": {
        "id": "znBYv-5tnsiZ"
      },
      "execution_count": null,
      "outputs": []
    }
  ]
}